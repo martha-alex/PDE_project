{
 "cells": [
  {
   "cell_type": "code",
   "execution_count": 1,
   "metadata": {},
   "outputs": [],
   "source": [
    "import pylab\n",
    "import numpy as np\n",
    "import random as rnd\n",
    "import networkx as nx\n",
    "import scipy.stats as sp\n",
    "import matplotlib.pyplot as plt\n",
    "from mpl_toolkits.mplot3d import Axes3D\n",
    "\n",
    "def show_3dplot(X, Y, Z):\n",
    "    fig = plt.figure()\n",
    "    ax = fig.add_subplot(111, projection='3d')\n",
    "    ax.plot_surface(X, Y, Z)\n",
    "    plt.show()"
   ]
  },
  {
   "cell_type": "code",
   "execution_count": null,
   "metadata": {},
   "outputs": [],
   "source": [
    "<center> <h2>Wrocław University of Science and Technology</h2> <br> <br> \n",
    "        <h1>Partial Differential Equations</h1> <br><br><br>\n",
    "        <h1>Advection - Diffiusion equation for Criminal Activity</h1> <br>\n",
    "        <i>Marta Kierat indeks<br>\n",
    "        Dominika Struzik 234839 <br></i></center>\n",
    "        \n",
    "<br><br><br><br><br><br>\n",
    "\n",
    "        \n",
    "<font color=\"white\" size=0.1>$\\label{Introduction}\\tag{1}$</font>      \n",
    "#  1 Introduction \n",
    "The use of mathematical models to obtain insight into sociological phenomena is in the middle of interest of many scientists nowadays.\n",
    "Additionaly it is not a news that basic knowledge of partial differential equations is essential to understand the surrounding world.\n",
    "The study of crime patterns via usage PDEs has resulted in a lot of compelling research, which helped to developed the PDEs model of te form:\n",
    "    \\begin{equation}\\label{crime_model}\\tag{1}\n",
    "    A_{t} = \\eta \\Delta A - A + f(a,\\rho) + \\overline{A}(x),\\\\\n",
    "    \\rho_{t} = \\nabla \\cdot (\\nabla\\rho - \\rho\\nabla\\chi(A)) - A\\rho + \\overline{B}(x),\n",
    "    \\end{equation}\n",
    "    on $\\Omega$, a bound subset is $\\mathbb{R^2}$. The scalar $A(x,t)$ is a field that influances the movement of criminals and $\\rho(x,t)$ is a criminal density at point $x \\in \\Omega$ and time $t \\geq 0$.\n",
    "The system \\ref{crime_model} can be see as a basic model for residential burglary $hotspots$, which are areas where is a big intensity of crimes (scientists have shown that delinquency is not a random phenomenon, but it actually clusters in time and space).\n",
    "This system is related to Keller-Segel model (gravitational interacting particles) and Debey system (electrolytes).\n",
    "\n",
    "Despite the fact that criminal behaviour has been studied thorough many years, reaserchers and societies, for this days is little understood. We can observe that highly criminalized areas are surronded by areas with low crime rate. This observation led to develop a PDE model for residential burglaries based on routine activity theory, with the aim of understanding\n",
    "the dynamics of hotspots. Routin theory states that criminal tend to act, when agent is motivated and encounters an appropriate opportunity. This implies that it's essential to focus on a factors that leds to crime if its wanted to be prevented. Of course there are many other factors that can affect criminal, e.g. socio-eonomy situation or psyhological issues, but they are considered in this modesl as noise, which makes is tractable. More specifficaly system \\ref{crime_model} represents The ‘repeat and near-repeat victimization effect’, which means hat next crime is more likely to happen in area where has been a recent attac. This leads to a nonlinear increase of the attractiveness value, as $f(A, \\rho) = A(x,t)\\rho(x, t)$, which is the expected number of crimes. Thanks to this model we are not only able to predict next crime but also prevent it.\n"
   ]
  },
  {
   "cell_type": "markdown",
   "metadata": {},
   "source": []
  }
 ],
 "metadata": {
  "kernelspec": {
   "display_name": "Python 3",
   "language": "python",
   "name": "python3"
  },
  "language_info": {
   "codemirror_mode": {
    "name": "ipython",
    "version": 3
   },
   "file_extension": ".py",
   "mimetype": "text/x-python",
   "name": "python",
   "nbconvert_exporter": "python",
   "pygments_lexer": "ipython3",
   "version": "3.8.2"
  }
 },
 "nbformat": 4,
 "nbformat_minor": 4
}
